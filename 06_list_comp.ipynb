{
 "cells": [
  {
   "cell_type": "code",
   "execution_count": 1,
   "metadata": {},
   "outputs": [
    {
     "data": {
      "text/plain": [
       "{'0': 0,\n",
       " '1': 1,\n",
       " '2': 4,\n",
       " '3': 9,\n",
       " '4': 16,\n",
       " '5': 25,\n",
       " '6': 36,\n",
       " '7': 49,\n",
       " '8': 64,\n",
       " '9': 81,\n",
       " '10': 100,\n",
       " '11': 121,\n",
       " '12': 144,\n",
       " '13': 169,\n",
       " '14': 196,\n",
       " '15': 225,\n",
       " '16': 256,\n",
       " '17': 289,\n",
       " '18': 324,\n",
       " '19': 361}"
      ]
     },
     "execution_count": 1,
     "metadata": {},
     "output_type": "execute_result"
    }
   ],
   "source": [
    "d = {str(k):k**2 for k in range(20)}\n",
    "d\n"
   ]
  }
 ],
 "metadata": {
  "kernelspec": {
   "display_name": ".env",
   "language": "python",
   "name": "python3"
  },
  "language_info": {
   "codemirror_mode": {
    "name": "ipython",
    "version": 3
   },
   "file_extension": ".py",
   "mimetype": "text/x-python",
   "name": "python",
   "nbconvert_exporter": "python",
   "pygments_lexer": "ipython3",
   "version": "3.11.5"
  },
  "orig_nbformat": 4
 },
 "nbformat": 4,
 "nbformat_minor": 2
}
